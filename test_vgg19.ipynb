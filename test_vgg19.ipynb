{
 "cells": [
  {
   "cell_type": "code",
   "execution_count": 1,
   "id": "cubic-scoop",
   "metadata": {},
   "outputs": [],
   "source": [
    "import os\n",
    "import pandas as pd\n",
    "from PIL import Image\n",
    "\n",
    "import torch\n",
    "import torch.nn as nn\n",
    "import torch.nn.functional as F\n",
    "from torch.utils.data import Dataset, DataLoader\n",
    "\n",
    "import numpy as np\n",
    "import random\n",
    "import cv2\n",
    "\n",
    "from torchvision import transforms\n",
    "from torchvision.transforms import Resize, ToTensor, Normalize\n",
    "import torchvision.models as models"
   ]
  },
  {
   "cell_type": "code",
   "execution_count": null,
   "id": "built-elevation",
   "metadata": {},
   "outputs": [],
   "source": [
    "train_dir = '/opt/ml/input/data/train/'\n",
    "train_image_path = '/opt/ml/input/data/train/images/'\n",
    "\n",
    "test_dir = '/opt/ml/input/data/eval/'\n",
    "test_image_path = '/opt/ml/input/data/eval/images/'\n",
    "\n",
    "dt_train = pd.read_csv(train_dir+'train.csv')\n",
    "dt_train"
   ]
  },
  {
   "cell_type": "code",
   "execution_count": null,
   "id": "f7724d5c",
   "metadata": {},
   "outputs": [],
   "source": [
    "device = torch.device('cuda' if torch.cuda.is_available() else 'cpu')"
   ]
  },
  {
   "cell_type": "code",
   "execution_count": null,
   "id": "a8031f32",
   "metadata": {},
   "outputs": [],
   "source": [
    "random_seed = 12\n",
    "\n",
    "torch.manual_seed(random_seed)\n",
    "torch.cuda.manual_seed(random_seed)\n",
    "torch.cuda.manual_seed_all(random_seed) # if use multi-GPU\n",
    "torch.backends.cudnn.deterministic = True\n",
    "torch.backends.cudnn.benchmark = False\n",
    "np.random.seed(random_seed)\n",
    "random.seed(random_seed)"
   ]
  },
  {
   "cell_type": "code",
   "execution_count": null,
   "id": "012a2b2f",
   "metadata": {},
   "outputs": [],
   "source": [
    "# 일단은 list로 값 받는 형태로 _ Dataset 안에서 처리할 수도 있을듯\n",
    "whole_image_path = []\n",
    "whole_target_label = []\n",
    "\n",
    "for path in dt_train['path']:\n",
    "    for file_name in [i for i in os.listdir(train_image_path+path) if '._' not in i]:\n",
    "        whole_image_path.append(train_image_path+path+'/'+file_name)\n",
    "        whole_target_label.append((path.split('_')[1], path.split('_')[3], file_name.split('.')[0]))\n",
    "        \n",
    "        \n",
    "# 라벨을 0~17로 할당하는 함수\n",
    "def onehot_enc(x):\n",
    "    # x 입력형태 : (gender, age, mask)의 튜플\n",
    "    def gender(i):\n",
    "        if i == 'male':\n",
    "            return 0\n",
    "        elif i == 'female':\n",
    "            return 3\n",
    "    def age(j):\n",
    "        j = int(j)\n",
    "        if j < 30:\n",
    "            return 0\n",
    "        elif j >= 30 and j < 60:\n",
    "            return 1\n",
    "        elif j >= 60:\n",
    "            return 2\n",
    "    def mask(k):\n",
    "        if k == 'normal':\n",
    "            return 12\n",
    "        elif 'incorrect' in k:\n",
    "            return 6\n",
    "        else:\n",
    "            return 0\n",
    "    return gender(x[0]) + age(x[1]) + mask(x[2])"
   ]
  },
  {
   "cell_type": "code",
   "execution_count": null,
   "id": "9ffeefb2",
   "metadata": {},
   "outputs": [],
   "source": [
    "# sr_data : 이미지 데이터의 경로\n",
    "# sr_label : 이미지 데이터의 라벨정보 (not_encoded)\n",
    "sr_data = pd.Series(whole_image_path)\n",
    "sr_label = pd.Series(whole_target_label)\n",
    "#64, 447"
   ]
  },
  {
   "cell_type": "code",
   "execution_count": null,
   "id": "extensive-north",
   "metadata": {},
   "outputs": [],
   "source": [
    "class Dataset_Mask(Dataset):\n",
    "    def __init__(self, encoding=True, midcrop=True, transform=None):\n",
    "        self.encoding = encoding\n",
    "        self.midcrop = midcrop\n",
    "        self.data = sr_data\n",
    "        self.label = sr_label\n",
    "        self.transform = transform\n",
    "        \n",
    "        if encoding:\n",
    "            self.label = self.label.apply(onehot_enc)\n",
    "        \n",
    "    def __len__(self):\n",
    "        return len(sr_data)\n",
    "    \n",
    "    def __getitem__(self, idx):\n",
    "        X = cv2.cvtColor(cv2.imread(self.data[idx]), cv2.COLOR_BGR2RGB)\n",
    "        y = self.label[idx]\n",
    "        \n",
    "        if self.midcrop:\n",
    "            X = X[64:448]\n",
    "        \n",
    "        if self.transform:\n",
    "            return self.transform(X), y\n",
    "        return X, y"
   ]
  },
  {
   "cell_type": "code",
   "execution_count": null,
   "id": "3fd6db3b",
   "metadata": {},
   "outputs": [],
   "source": [
    "dataset_mask = Dataset_Mask(transform = transforms.Compose([\n",
    "                                transforms.ToTensor()\n",
    "                            ]))"
   ]
  },
  {
   "cell_type": "code",
   "execution_count": null,
   "id": "df62b27c",
   "metadata": {},
   "outputs": [],
   "source": [
    "train_size = int(len(dataset_mask) * 0.8)\n",
    "val_size = int(len(dataset_mask) * 0.2)\n",
    "\n",
    "train_set, val_set = torch.utils.data.random_split(dataset_mask, [train_size, val_size])\n",
    "print(f'training data size : {len(train_set)}')\n",
    "print(f'validation data size : {len(val_set)}')"
   ]
  },
  {
   "cell_type": "code",
   "execution_count": null,
   "id": "cc8f20fd",
   "metadata": {},
   "outputs": [],
   "source": [
    "batch_size = 64\n",
    "train_dataLoader = DataLoader(dataset = train_set, batch_size=batch_size, shuffle=True, num_workers=0)\n",
    "val_dataLoader = DataLoader(dataset = val_set, batch_size=batch_size, shuffle=True, num_workers=0)"
   ]
  },
  {
   "cell_type": "code",
   "execution_count": null,
   "id": "2845076e",
   "metadata": {},
   "outputs": [],
   "source": [
    "num_classes = 18\n",
    "model_vgg19 = models.vgg19(pretrained=True)\n",
    "\n",
    "print(model_vgg19)"
   ]
  },
  {
   "cell_type": "code",
   "execution_count": null,
   "id": "9acfbe46",
   "metadata": {},
   "outputs": [],
   "source": [
    "model_vgg19.fc = nn.Sequential(\n",
    "    nn.Linear(512 * 7 * 7, 4096),\n",
    "    nn.ReLU(True),\n",
    "    nn.Dropout(),\n",
    "    nn.Linear(4096, 4096),\n",
    "    nn.ReLU(True),\n",
    "    nn.Dropout(),\n",
    "    nn.Linear(4096, num_classes),\n",
    ")\n",
    "\n",
    "print(model_vgg19)"
   ]
  },
  {
   "cell_type": "code",
   "execution_count": null,
   "id": "b17965d1",
   "metadata": {},
   "outputs": [],
   "source": [
    "import torch.nn.init as init\n",
    "\n",
    "def initialize_weights(model):\n",
    "    for m in model.modules():\n",
    "        if isinstance(m, nn.Conv2d):\n",
    "            init.xavier_uniform_(m.weight.data)\n",
    "            if m.bias is not None:\n",
    "                m.bias.data.zero_()\n",
    "        elif isinstance(m, nn.BatchNorm2d):\n",
    "            m.weight.data.fill_(1)\n",
    "            m.bias.data.zero_()\n",
    "        elif isinstance(m, nn.Linear):\n",
    "            m.weight.data.normal_(0, 0.01)\n",
    "            m.bias.data.zero_()\n",
    "\n",
    "initialize_weights(model_vgg19.classifier)"
   ]
  },
  {
   "cell_type": "code",
   "execution_count": null,
   "id": "eb26e5e6",
   "metadata": {},
   "outputs": [],
   "source": [
    "epochs = 3\n",
    "learning_rate = 0.0001\n",
    "criterion = nn.CrossEntropyLoss()\n",
    "optimizer = torch.optim.Adam(model_vgg19.parameters(), lr=learning_rate, betas=(0.9,0.99))"
   ]
  },
  {
   "cell_type": "code",
   "execution_count": null,
   "id": "c6f7478d",
   "metadata": {},
   "outputs": [],
   "source": [
    "model_vgg19.to(device)"
   ]
  },
  {
   "cell_type": "code",
   "execution_count": null,
   "id": "2c88981f",
   "metadata": {},
   "outputs": [],
   "source": [
    "np.set_printoptions(precision=3)\n",
    "n_param = 0\n",
    "for p_idx, (param_name, param) in enumerate(model_vgg19.named_parameters()):\n",
    "    if param.requires_grad:\n",
    "        param_numpy = param.detach().cpu().numpy()\n",
    "        n_param += len(param_numpy.reshape(-1))\n",
    "        print (\"[%d] name:[%s] shape:[%s].\"%(p_idx,param_name,param_numpy.shape))\n",
    "        print (\"    val:%s\"%(param_numpy.reshape(-1)[:5]))\n",
    "print (\"Total number of parameters:[%s].\"%(format(n_param,',d')))"
   ]
  },
  {
   "cell_type": "code",
   "execution_count": null,
   "id": "b9ed1f90",
   "metadata": {},
   "outputs": [],
   "source": [
    "best_val_acc_so_far = 0\n",
    "best_val_loss_so_far = np.inf\n",
    "\n",
    "for epoch in range(epochs):\n",
    "    print(\"[INFO] Training Epoch : {}\".format(epoch))\n",
    "    model_vgg19.train()\n",
    "\n",
    "    for i, (X, y) in enumerate(train_dataLoader):\n",
    "        loss_value = 0\n",
    "        acc = 0\n",
    "        \n",
    "        X = X.to(device)\n",
    "        y = y.to(device)\n",
    "        \n",
    "        _y = model_vgg19(X)\n",
    "        _pred = torch.argmax(_y, dim=-1)\n",
    "\n",
    "        loss = criterion(_y, y)\n",
    "\n",
    "        optimizer.zero_grad()\n",
    "        loss.backward()\n",
    "        optimizer.step()\n",
    "                \n",
    "        loss_value += loss.item()\n",
    "        acc += (y == _pred).sum().item()\n",
    "\n",
    "        train_loss = loss_value / batch_size\n",
    "        train_acc = acc / batch_size\n",
    "\n",
    "        if i % 10 == 0:\n",
    "            print(f\"STEP[{i}/{len(train_dataLoader)}] Training loss: {train_loss:.3f} / Training accuracy: {train_acc:.3f}\")\n",
    "\n",
    "    with torch.no_grad():\n",
    "        model_vgg19.eval()\n",
    "\n",
    "        val_loss_items = []\n",
    "        val_acc_items = []\n",
    "\n",
    "        for i, (X, y) in enumerate(val_dataLoader):\n",
    "            X = X.to(device)\n",
    "            y = y.to(device)\n",
    "            \n",
    "            _y = model_vgg19(X)\n",
    "            _pred = torch.argmax(_y, dim=-1)\n",
    "            \n",
    "            loss_item = criterion(_y, y).item()\n",
    "            acc_item = (y == _pred).sum().item()\n",
    "\n",
    "            val_loss_items.append(loss_item)\n",
    "            val_acc_items.append(acc_item)\n",
    "            \n",
    "        cur_val_loss = np.sum(val_loss_items) / len(val_dataLoader)\n",
    "        cur_val_acc = np.sum(val_acc_items) / len(val_dataLoader)\n",
    "        \n",
    "        if cur_val_loss < best_val_loss_so_far:\n",
    "            best_val_loss_so_far = cur_val_loss\n",
    "        if cur_val_acc > best_val_acc_so_far:\n",
    "            best_val_acc_so_far = cur_val_acc\n",
    "\n",
    "        print(f\"[Val] Current acc : {cur_val_acc:.3f} / Current loss : {cur_val_loss:.3f}\")\n",
    "        print(f\"[Val] Best acc : {best_val_acc_so_far:.3f} / Best loss : {best_val_loss_so_far:.3f}\")\n",
    "\n",
    "    print(f\"EPOCH[{epoch}/{epochs}] Training loss: {train_loss:.3f} / Training accuracy: {train_acc:.3f}\")\n",
    "\n",
    "print(\"[INFO] Training ALL DONE!!!\")"
   ]
  },
  {
   "cell_type": "code",
   "execution_count": null,
   "id": "cf996993",
   "metadata": {},
   "outputs": [],
   "source": [
    "submission = pd.read_csv(test_dir+'info.csv')\n",
    "submission.head()"
   ]
  },
  {
   "cell_type": "code",
   "execution_count": null,
   "id": "c57eb667",
   "metadata": {},
   "outputs": [],
   "source": [
    "image_paths = [os.path.join(test_image_path, img_id) for img_id in submission.ImageID]\n",
    "test_image = pd.Series(image_paths)"
   ]
  },
  {
   "cell_type": "code",
   "execution_count": null,
   "id": "dcc3a0da",
   "metadata": {},
   "outputs": [],
   "source": [
    "class TestDataset(Dataset):\n",
    "    def __init__(self, midcrop=True, transform=None):\n",
    "        self.midcrop = midcrop\n",
    "        self.data = test_image\n",
    "        self.transform = transform\n",
    "        \n",
    "    def __len__(self):\n",
    "        return len(self.data)\n",
    "    \n",
    "    def __getitem__(self, idx):\n",
    "        image = cv2.cvtColor(cv2.imread(self.data[idx]), cv2.COLOR_BGR2RGB)\n",
    "        \n",
    "        if self.midcrop:\n",
    "            image = image[64:448]\n",
    "        \n",
    "        if self.transform:\n",
    "            return self.transform(image)\n",
    "        \n",
    "        return image"
   ]
  },
  {
   "cell_type": "code",
   "execution_count": null,
   "id": "558ad8e2",
   "metadata": {},
   "outputs": [],
   "source": [
    "test_transform = transforms.Compose([\n",
    "                            transforms.ToTensor()\n",
    "                        ])\n",
    "\n",
    "test_set = TestDataset(transform = test_transform)\n",
    "test_dataLodaer = DataLoader(test_set, batch_size=batch_size, shuffle=False, num_workers=2)"
   ]
  },
  {
   "cell_type": "code",
   "execution_count": null,
   "id": "cbbd1d2a",
   "metadata": {},
   "outputs": [],
   "source": [
    "model = model_vgg19(num_classes=num_classes).to(device)\n",
    "model.eval()\n",
    "\n",
    "all_predictions = []\n",
    "for images in test_dataLodaer:\n",
    "    with torch.no_grad():\n",
    "        images = images.to(device)\n",
    "        pred = model(images)\n",
    "        pred = pred.argmax(dim=-1)\n",
    "        all_predictions.extend(pred.cpu().numpy())\n",
    "submission['ans'] = all_predictions\n",
    "\n",
    "submission.to_csv(os.path.join(test_dir, 'submission.csv'), index=False)\n",
    "print('test inference is done!')"
   ]
  }
 ],
 "metadata": {
  "kernelspec": {
   "display_name": "Python 3 (ipykernel)",
   "language": "python",
   "name": "python3"
  }
 },
 "nbformat": 4,
 "nbformat_minor": 5
}
